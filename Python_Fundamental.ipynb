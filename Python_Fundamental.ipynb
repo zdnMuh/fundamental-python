{
  "nbformat": 4,
  "nbformat_minor": 0,
  "metadata": {
    "colab": {
      "provenance": [],
      "toc_visible": true,
      "authorship_tag": "ABX9TyPDwMm1Ai80g4wFowQ25tGv",
      "include_colab_link": true
    },
    "kernelspec": {
      "name": "python3",
      "display_name": "Python 3"
    },
    "language_info": {
      "name": "python"
    }
  },
  "cells": [
    {
      "cell_type": "markdown",
      "metadata": {
        "id": "view-in-github",
        "colab_type": "text"
      },
      "source": [
        "<a href=\"https://colab.research.google.com/github/zdnMuh/learn-python/blob/main/Python_Fundamental.ipynb\" target=\"_parent\"><img src=\"https://colab.research.google.com/assets/colab-badge.svg\" alt=\"Open In Colab\"/></a>"
      ]
    },
    {
      "cell_type": "markdown",
      "source": [
        "# Common Data Structure"
      ],
      "metadata": {
        "id": "oK3mwrClPW9_"
      }
    },
    {
      "cell_type": "code",
      "execution_count": null,
      "metadata": {
        "colab": {
          "base_uri": "https://localhost:8080/"
        },
        "id": "MsR416KZGZPx",
        "outputId": "1666c621-6925-4db3-97eb-f0f264c247c1"
      },
      "outputs": [
        {
          "output_type": "stream",
          "name": "stdout",
          "text": [
            "['Bayam', 'Kangkung', 'Tongkol', 1, 2]\n",
            "['Bayam', 'Tongkol', 1, 2, 'Tongkol']\n"
          ]
        }
      ],
      "source": [
        "# list : list belanja\n",
        "mylist = [\"Bayam\", \"Kangkung\", \"Tongkol\", 1, 2]\n",
        "print(mylist)\n",
        "# append : menambahkan data && remove : menghapus data\n",
        "mylist.append(\"Tongkol\")\n",
        "mylist.remove(\"Kangkung\")\n",
        "print(mylist)"
      ]
    },
    {
      "cell_type": "code",
      "source": [
        "# dict : kamus\n",
        "mydict = {1: \"Zidan\", 2: \"Rifqi\", 3:\"Queen\"}\n",
        "print(mydict)\n",
        "# del : hapus\n",
        "mydict['Alamat'] = \"Mataram\"\n",
        "print(mydict)\n",
        "del mydict['Alamat']\n",
        "print(mydict)"
      ],
      "metadata": {
        "colab": {
          "base_uri": "https://localhost:8080/"
        },
        "id": "iXfa1IFCH5BN",
        "outputId": "2315d2a9-a4d2-4c6a-df41-d6b5ca746db4"
      },
      "execution_count": null,
      "outputs": [
        {
          "output_type": "stream",
          "name": "stdout",
          "text": [
            "{1: 'Zidan', 2: 'Rifqi', 3: 'Queen'}\n",
            "{1: 'Zidan', 2: 'Rifqi', 3: 'Queen', 'Alamat': 'Mataram'}\n",
            "{1: 'Zidan', 2: 'Rifqi', 3: 'Queen'}\n"
          ]
        }
      ]
    },
    {
      "cell_type": "code",
      "source": [
        "# tuple : tabel tidak dapat diubah\n",
        "mytuple = (1, 2, 3, 4)\n",
        "print(mytuple)\n",
        "print(mytuple[1])"
      ],
      "metadata": {
        "colab": {
          "base_uri": "https://localhost:8080/"
        },
        "id": "zWBl1rZ-IciC",
        "outputId": "d22f5320-42ca-47e3-a43a-df3bd35484ac"
      },
      "execution_count": null,
      "outputs": [
        {
          "output_type": "stream",
          "name": "stdout",
          "text": [
            "(1, 2, 3, 4)\n",
            "2\n"
          ]
        }
      ]
    },
    {
      "cell_type": "code",
      "source": [
        "# sets : kumpulan unik\n",
        "mysets = {1, 2, 3, 3, 3, 3, 5}\n",
        "print(mysets)\n",
        "# add : menambahkan data && remove : menghapus data\n",
        "mysets.add(7)\n",
        "mysets.remove(3)\n",
        "print(mysets)\n",
        "# print(my_set.union(my_set_2), '----------', my_set | my_set_2)\n",
        "# print(my_set.intersection(my_set_2), '----------', my_set & my_set_2)\n",
        "# print(my_set.difference(my_set_2), '----------', my_set - my_set_2)\n",
        "# print(my_set.symmetric_difference(my_set_2), '----------', my_set ^ my_set_2)\n",
        "# my_set.clear()"
      ],
      "metadata": {
        "colab": {
          "base_uri": "https://localhost:8080/"
        },
        "id": "KhRTyI7XJhYW",
        "outputId": "503b677d-baf9-4183-8d66-78a30303933a"
      },
      "execution_count": null,
      "outputs": [
        {
          "output_type": "stream",
          "name": "stdout",
          "text": [
            "{1, 2, 3, 5}\n",
            "{1, 2, 5, 7}\n"
          ]
        }
      ]
    },
    {
      "cell_type": "markdown",
      "source": [
        "# Conditional Statement"
      ],
      "metadata": {
        "id": "jNuzl3X_PeA8"
      }
    },
    {
      "cell_type": "code",
      "source": [
        "num = 'aaa'\n",
        "if isinstance(num, int):\n",
        "  if num%2 == 0:\n",
        "    print(num, \" bilangan genap\")\n",
        "  elif num%2 == 1:\n",
        "    print(num, \" bilangan ganjil\")\n",
        "else:\n",
        "  print(num, \" bukan bilangan\")"
      ],
      "metadata": {
        "colab": {
          "base_uri": "https://localhost:8080/"
        },
        "id": "oqzgPBchPljN",
        "outputId": "1849bada-0384-4cab-90d1-aea0ef2f7c7c"
      },
      "execution_count": null,
      "outputs": [
        {
          "output_type": "stream",
          "name": "stdout",
          "text": [
            "aaa  bukan bilangan\n"
          ]
        }
      ]
    },
    {
      "cell_type": "markdown",
      "source": [
        "# Loop"
      ],
      "metadata": {
        "id": "HrCjlNbZdLuv"
      }
    },
    {
      "cell_type": "code",
      "source": [
        "# while loop\n",
        "num = 1\n",
        "inlist = []\n",
        "while num:\n",
        "  if num%2 == 0:\n",
        "    inlist.append(num)\n",
        "  if num >=21:\n",
        "    break\n",
        "  num+=1\n",
        "print('Isinya =', inlist)"
      ],
      "metadata": {
        "colab": {
          "base_uri": "https://localhost:8080/"
        },
        "id": "9iYFEPhGdOiQ",
        "outputId": "7dcdc1f8-17b5-4800-9995-84cbdb6c48ff"
      },
      "execution_count": null,
      "outputs": [
        {
          "output_type": "stream",
          "name": "stdout",
          "text": [
            "Isinya = [2, 4, 6, 8, 10, 12, 14, 16, 18, 20]\n"
          ]
        }
      ]
    },
    {
      "cell_type": "code",
      "source": [
        "# for loop\n",
        "for x in inlist:\n",
        "  print(x)"
      ],
      "metadata": {
        "colab": {
          "base_uri": "https://localhost:8080/"
        },
        "id": "4FeZ8EOOea79",
        "outputId": "285c93fd-6631-46af-fad9-29725966aafa"
      },
      "execution_count": null,
      "outputs": [
        {
          "output_type": "stream",
          "name": "stdout",
          "text": [
            "2\n",
            "4\n",
            "6\n",
            "8\n",
            "10\n",
            "12\n",
            "14\n",
            "16\n",
            "18\n",
            "20\n"
          ]
        }
      ]
    },
    {
      "cell_type": "markdown",
      "source": [
        "# Function\n"
      ],
      "metadata": {
        "id": "eBndjg7ZffQ5"
      }
    },
    {
      "cell_type": "code",
      "source": [
        "# with return\n",
        "def pembagian(a, b):\n",
        "  return 'Hasilnya = '+ str(a/b)\n",
        "pembagian(6, 2)"
      ],
      "metadata": {
        "colab": {
          "base_uri": "https://localhost:8080/",
          "height": 35
        },
        "id": "yUzqepP5fltR",
        "outputId": "161e7815-c937-46f8-b55c-5254a686ce15"
      },
      "execution_count": null,
      "outputs": [
        {
          "output_type": "execute_result",
          "data": {
            "text/plain": [
              "'Hasilnya = 3.0'"
            ],
            "application/vnd.google.colaboratory.intrinsic+json": {
              "type": "string"
            }
          },
          "metadata": {},
          "execution_count": 44
        }
      ]
    },
    {
      "cell_type": "code",
      "source": [
        "# no return (procedure)\n",
        "def perkalian(c, d):\n",
        "  print(\"Hasilnya = \", c*d)\n",
        "perkalian(6, 2)"
      ],
      "metadata": {
        "id": "EAqcL5dshN-o",
        "outputId": "97454258-81d7-4e2b-bba3-6d034201bebb",
        "colab": {
          "base_uri": "https://localhost:8080/"
        }
      },
      "execution_count": null,
      "outputs": [
        {
          "output_type": "stream",
          "name": "stdout",
          "text": [
            "Hasilnya =  12\n"
          ]
        }
      ]
    },
    {
      "cell_type": "markdown",
      "source": [
        "# Exercise List"
      ],
      "metadata": {
        "id": "nsbSNlqgKNe0"
      }
    },
    {
      "cell_type": "code",
      "source": [
        "# Buatlah list berisi 10 bilangan genap pertama dan cetak dalam urutan terbalik.\n",
        "x = 1\n",
        "xlist = []\n",
        "\n",
        "while x:\n",
        "  if x%2 == 0:\n",
        "    xlist.append(x)\n",
        "  elif len(xlist) == 10:\n",
        "    break\n",
        "  x+=1\n",
        "\n",
        "xlist.reverse()\n",
        "print(xlist)"
      ],
      "metadata": {
        "colab": {
          "base_uri": "https://localhost:8080/"
        },
        "id": "vtnjFAGkLFdU",
        "outputId": "f8b67f55-8070-4f2c-91cf-ffbb8085ba4d"
      },
      "execution_count": null,
      "outputs": [
        {
          "output_type": "stream",
          "name": "stdout",
          "text": [
            "[20, 18, 16, 14, 12, 10, 8, 6, 4, 2]\n"
          ]
        }
      ]
    },
    {
      "cell_type": "markdown",
      "source": [
        "# Exercise Dictionary"
      ],
      "metadata": {
        "id": "Nn8Y8dAhM8Kv"
      }
    },
    {
      "cell_type": "code",
      "source": [
        "# Buatlah dictionary untuk menyimpan informasi siswa (nama, ID, nilai).\n",
        "siswa = {\n",
        "    'nama': 'zidan',\n",
        "    'ID': '1',\n",
        "    'nilai': 90}\n",
        "print(siswa['nama'])\n",
        "print(siswa['ID'])\n",
        "print(siswa['nilai'])\n",
        "\n",
        "# Lakukan iterasi pada dictionary dan cetak setiap pasangan key-value.\n",
        "for key, value in siswa.items():\n",
        "  print(key, ':', value)"
      ],
      "metadata": {
        "colab": {
          "base_uri": "https://localhost:8080/"
        },
        "id": "qAedXgmENHQo",
        "outputId": "c76367c7-5db2-46d9-d5d5-3f4be43555fc"
      },
      "execution_count": null,
      "outputs": [
        {
          "output_type": "stream",
          "name": "stdout",
          "text": [
            "zidan\n",
            "1\n",
            "90\n",
            "nama : zidan\n",
            "ID : 1\n",
            "nilai : 90\n"
          ]
        }
      ]
    },
    {
      "cell_type": "markdown",
      "source": [
        "# Exercise Tuple"
      ],
      "metadata": {
        "id": "fBRpHUOAPHF2"
      }
    },
    {
      "cell_type": "code",
      "source": [
        "# Buatlah tuple untuk menyimpan nama-nama hari dalam seminggu.\n",
        "hari = ('senin', 'selasa', 'rabu', 'kamis', 'jumat', 'sabtu', 'minggu')\n",
        "\n",
        "# Akses elemen dalam tuple menggunakan indexing dan slicing.\n",
        "print(hari)\n",
        "print(hari[1][3:])"
      ],
      "metadata": {
        "colab": {
          "base_uri": "https://localhost:8080/"
        },
        "id": "jb-09WaNPKhU",
        "outputId": "ebd81304-a708-4c81-f6bc-7d5e5a86718d"
      },
      "execution_count": null,
      "outputs": [
        {
          "output_type": "stream",
          "name": "stdout",
          "text": [
            "('senin', 'selasa', 'rabu', 'kamis', 'jumat', 'sabtu', 'minggu')\n",
            "asa\n"
          ]
        }
      ]
    },
    {
      "cell_type": "markdown",
      "source": [
        "# Exercise Sets"
      ],
      "metadata": {
        "id": "_OxzOYFqQWSd"
      }
    },
    {
      "cell_type": "code",
      "source": [
        "# Buatlah set untuk menyimpan nama-nama unik dari list.\n",
        "unik = {1, 2, 3, 4, 4, 5, 6, 7, 2, 7, 9, 4}\n",
        "\n",
        "# Tambahkan dan hapus elemen dari set.\n",
        "unik.remove(4)\n",
        "unik.add(10)\n",
        "print(unik)\n",
        "\n",
        "# Periksa apakah dua set sama atau memiliki elemen yang sama.\n",
        "unik2 = {1, 2, 3, 1, 4, 5, 6, 7, 2, 7, 0, 2}\n",
        "print(unik&unik2)"
      ],
      "metadata": {
        "colab": {
          "base_uri": "https://localhost:8080/"
        },
        "id": "iHGnxS-uQbqE",
        "outputId": "33bc4d03-8505-4f20-84f9-bf4b07772d60"
      },
      "execution_count": null,
      "outputs": [
        {
          "output_type": "stream",
          "name": "stdout",
          "text": [
            "{1, 2, 3, 5, 6, 7, 9, 10}\n",
            "{1, 2, 3, 5, 6, 7}\n"
          ]
        }
      ]
    },
    {
      "cell_type": "markdown",
      "source": [
        "# Exercise Conditional Statement"
      ],
      "metadata": {
        "id": "HpeqxAqKnam8"
      }
    },
    {
      "cell_type": "code",
      "source": [
        "# Tulis program yang meminta pengguna memasukkan angka dan cek apakah nilainya genap atau ganjil. Cetak pesan sesuai hasilnya.\n",
        "try:\n",
        "  num = int(input('input : '))\n",
        "  if num%2 == 0:\n",
        "    print(num, \" bilangan genap\")\n",
        "  else:\n",
        "    print(num, \" bilangan ganjil\")\n",
        "except ValueError:\n",
        "  print('bukan bilangan')"
      ],
      "metadata": {
        "colab": {
          "base_uri": "https://localhost:8080/"
        },
        "id": "fFJvuZKdnhFW",
        "outputId": "bc369144-782c-47b0-800b-2a48c8b3beed"
      },
      "execution_count": null,
      "outputs": [
        {
          "output_type": "stream",
          "name": "stdout",
          "text": [
            "input : 90\n",
            "90  bilangan genap\n"
          ]
        }
      ]
    },
    {
      "cell_type": "code",
      "source": [
        "# Buat program yang mengecek diskon belanja berdasarkan total belanjaan: kurang dari Rp50.000 = 0%, Rp50.000 - Rp100.000 = 5%,\n",
        "# lebih dari Rp100.000 = 10%. Hitung dan cetak harga akhir beserta diskonnya.\n",
        "try:\n",
        "  num = int(input('input : '))\n",
        "  if num < 50000:\n",
        "    print(\"belanja\", num, \"diskon 0%\")\n",
        "  elif 50000 <= num <= 100000:\n",
        "    print(\"belanja\", num, \"diskon 5%\")\n",
        "  elif num > 100000:\n",
        "    print(\"belanja\", num, \"diskon 10%\")\n",
        "except ValueError:\n",
        "  print('bukan bilangan')"
      ],
      "metadata": {
        "colab": {
          "base_uri": "https://localhost:8080/"
        },
        "id": "oHa0QfpIqL4G",
        "outputId": "23368be7-263a-4340-918e-4cda61cd09dd"
      },
      "execution_count": null,
      "outputs": [
        {
          "output_type": "stream",
          "name": "stdout",
          "text": [
            "input : popop\n",
            "bukan bilangan\n"
          ]
        }
      ]
    },
    {
      "cell_type": "markdown",
      "source": [
        "# Exercise Loop"
      ],
      "metadata": {
        "id": "_gel1REk5utT"
      }
    },
    {
      "cell_type": "code",
      "source": [
        "# Tulis program yang mencetak bilangan genap dari 1 sampai 100 menggunakan loop for.\n",
        "mylist = []\n",
        "for x in range(1, 101):\n",
        "  if x%2 == 0:\n",
        "    mylist.append(x)\n",
        "x+=1\n",
        "print(mylist)"
      ],
      "metadata": {
        "colab": {
          "base_uri": "https://localhost:8080/"
        },
        "id": "8QCYtrUj5x6o",
        "outputId": "cc37fd82-ed36-4261-aee4-9b6422b8ca21"
      },
      "execution_count": null,
      "outputs": [
        {
          "output_type": "stream",
          "name": "stdout",
          "text": [
            "[2, 4, 6, 8, 10, 12, 14, 16, 18, 20, 22, 24, 26, 28, 30, 32, 34, 36, 38, 40, 42, 44, 46, 48, 50, 52, 54, 56, 58, 60, 62, 64, 66, 68, 70, 72, 74, 76, 78, 80, 82, 84, 86, 88, 90, 92, 94, 96, 98, 100]\n"
          ]
        }
      ]
    },
    {
      "cell_type": "code",
      "source": [
        "# Buat program yang membaca 10 bilangan dari user dan mencetak bilangan terbesar dan terkecil.\n",
        "mylist = []\n",
        "for y in range(1, 11):\n",
        "  mylist.append(int(input('input : ')))\n",
        "\n",
        "mylist.sort(reverse=True)\n",
        "print(mylist)"
      ],
      "metadata": {
        "colab": {
          "base_uri": "https://localhost:8080/"
        },
        "id": "qHgp_WOi7APo",
        "outputId": "d942cde8-d27b-43e4-88d7-98e375935cd4"
      },
      "execution_count": null,
      "outputs": [
        {
          "output_type": "stream",
          "name": "stdout",
          "text": [
            "input : 12\n",
            "input : 56\n",
            "input : 5\n",
            "input : 3\n",
            "input : 90\n",
            "input : 0\n",
            "input : 57\n",
            "input : 4\n",
            "input : 54\n",
            "input : 7\n",
            "[90, 57, 56, 54, 12, 7, 5, 4, 3, 0]\n"
          ]
        }
      ]
    },
    {
      "cell_type": "markdown",
      "source": [
        "# Exercise Function"
      ],
      "metadata": {
        "id": "zykkVF5lYmyG"
      }
    },
    {
      "cell_type": "code",
      "source": [
        "# Buat fungsi greet(name) yang mencetak pesan \"Halo, [nama]!\"\n",
        "def greet(name):\n",
        "  print('Halo,', name)\n",
        "\n",
        "greet('zidan')"
      ],
      "metadata": {
        "colab": {
          "base_uri": "https://localhost:8080/"
        },
        "id": "iHxMn5e-Ytmq",
        "outputId": "e1d0669a-c5a2-4ab0-f271-e5690545c436"
      },
      "execution_count": 1,
      "outputs": [
        {
          "output_type": "stream",
          "name": "stdout",
          "text": [
            "Halo, zidan\n"
          ]
        }
      ]
    },
    {
      "cell_type": "code",
      "source": [
        "# Buat fungsi factorial(number) yang menghitung faktorial suatu bilangan.\n",
        "def factorial(num):\n",
        "  if num == 1:\n",
        "    return 1\n",
        "  else:\n",
        "    return num * factorial(num-1)\n",
        "\n",
        "result = factorial(10)\n",
        "print(result)"
      ],
      "metadata": {
        "colab": {
          "base_uri": "https://localhost:8080/"
        },
        "id": "-27I4OCLZOm_",
        "outputId": "93b5329b-a18a-40aa-f7e9-38da95984614"
      },
      "execution_count": 6,
      "outputs": [
        {
          "output_type": "stream",
          "name": "stdout",
          "text": [
            "3628800\n"
          ]
        }
      ]
    }
  ]
}